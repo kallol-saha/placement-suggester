{
 "cells": [
  {
   "cell_type": "code",
   "execution_count": 2,
   "id": "4fea8c4c",
   "metadata": {},
   "outputs": [],
   "source": [
    "import sys\n",
    "import os\n",
    "import torch\n",
    "\n",
    "os.environ['CUDA_DEVICE_ORDER']='PCI_BUS_ID'\n",
    "os.environ['CUDA_VISIBLE_DEVICES']='2'\n",
    "\n",
    "import numpy as np\n",
    "import plotly.graph_objects as go\n",
    "from plotly.subplots import make_subplots\n",
    "import torch.nn.functional as F\n",
    "\n",
    "import matplotlib as mpl\n",
    "import matplotlib.pyplot as plt\n",
    "from mpl_toolkits import mplot3d\n",
    "\n",
    "from equivariant_pose_graph.utils.color_utils import color_gradient\n",
    "\n",
    "from pytorch3d.transforms import Transform3d, Rotate, Translate\n",
    "\n",
    "%load_ext autoreload\n",
    "%autoreload 2"
   ]
  },
  {
   "cell_type": "code",
   "execution_count": 3,
   "id": "781fd703",
   "metadata": {},
   "outputs": [],
   "source": [
    "def toDisplay(x, target_dim = None):\n",
    "    while(target_dim is not None and x.dim() > target_dim):\n",
    "        x = x[0]\n",
    "    return x.detach().cpu().numpy()"
   ]
  },
  {
   "cell_type": "code",
   "execution_count": 4,
   "id": "4300009f",
   "metadata": {},
   "outputs": [],
   "source": [
    "from pytorch3d.transforms import Transform3d,Rotate, rotation_6d_to_matrix, se3_exp_map\n",
    "from equivariant_pose_graph.utils.se3 import *\n",
    "from equivariant_pose_graph.utils.display import *\n",
    "from equivariant_pose_graph.dataset.point_cloud_dataset import PointCloudDataset"
   ]
  },
  {
   "cell_type": "code",
   "execution_count": 8,
   "id": "4e6ec4f5",
   "metadata": {
    "scrolled": false
   },
   "outputs": [
    {
     "name": "stdout",
     "output_type": "stream",
     "text": [
      "\n",
      "\n",
      "\n",
      "\n",
      " 2 DGCNNS + all mugs + inverse kl + more certain p(z|Y)\n"
     ]
    },
    {
     "name": "stderr",
     "output_type": "stream",
     "text": [
      "Global seed set to 0\n"
     ]
    },
    {
     "name": "stdout",
     "output_type": "stream",
     "text": [
      "/home/jwang/code/equivariant_pose_graph/data/train_data_duprack_bothmugrack/renders/0_teleport_obj_points.npz\n"
     ]
    },
    {
     "name": "stderr",
     "output_type": "stream",
     "text": [
      "Global seed set to 0\n"
     ]
    },
    {
     "name": "stdout",
     "output_type": "stream",
     "text": [
      "Rack KL: 4.685, Mug KL for Mug #0: 1.278\n",
      "/home/jwang/code/equivariant_pose_graph/data/train_data_duprack_bothmugrack/renders/9990_teleport_obj_points.npz\n"
     ]
    },
    {
     "name": "stderr",
     "output_type": "stream",
     "text": [
      "Global seed set to 0\n"
     ]
    },
    {
     "name": "stdout",
     "output_type": "stream",
     "text": [
      "Rack KL: 4.353, Mug KL for Mug #9990: 0.821\n",
      "/home/jwang/code/equivariant_pose_graph/data/train_data_duprack_bothmugrack/renders/1_teleport_obj_points.npz\n"
     ]
    },
    {
     "name": "stderr",
     "output_type": "stream",
     "text": [
      "Global seed set to 0\n"
     ]
    },
    {
     "name": "stdout",
     "output_type": "stream",
     "text": [
      "Rack KL: 5.074, Mug KL for Mug #1: 1.148\n",
      "/home/jwang/code/equivariant_pose_graph/data/train_data_duprack_bothmugrack/renders/9991_teleport_obj_points.npz\n"
     ]
    },
    {
     "name": "stderr",
     "output_type": "stream",
     "text": [
      "Global seed set to 0\n"
     ]
    },
    {
     "name": "stdout",
     "output_type": "stream",
     "text": [
      "Rack KL: 3.991, Mug KL for Mug #9991: 0.765\n",
      "/home/jwang/code/equivariant_pose_graph/data/train_data_duprack_bothmugrack/renders/2_teleport_obj_points.npz\n"
     ]
    },
    {
     "name": "stderr",
     "output_type": "stream",
     "text": [
      "Global seed set to 0\n"
     ]
    },
    {
     "name": "stdout",
     "output_type": "stream",
     "text": [
      "Rack KL: 4.740, Mug KL for Mug #2: 0.765\n",
      "/home/jwang/code/equivariant_pose_graph/data/train_data_duprack_bothmugrack/renders/9992_teleport_obj_points.npz\n"
     ]
    },
    {
     "name": "stderr",
     "output_type": "stream",
     "text": [
      "Global seed set to 0\n"
     ]
    },
    {
     "name": "stdout",
     "output_type": "stream",
     "text": [
      "Rack KL: 4.302, Mug KL for Mug #9992: 0.722\n",
      "/home/jwang/code/equivariant_pose_graph/data/train_data_duprack_bothmugrack/renders/3_teleport_obj_points.npz\n"
     ]
    },
    {
     "name": "stderr",
     "output_type": "stream",
     "text": [
      "Global seed set to 0\n"
     ]
    },
    {
     "name": "stdout",
     "output_type": "stream",
     "text": [
      "Rack KL: 5.066, Mug KL for Mug #3: 0.993\n",
      "/home/jwang/code/equivariant_pose_graph/data/train_data_duprack_bothmugrack/renders/9993_teleport_obj_points.npz\n"
     ]
    },
    {
     "name": "stderr",
     "output_type": "stream",
     "text": [
      "Global seed set to 0\n"
     ]
    },
    {
     "name": "stdout",
     "output_type": "stream",
     "text": [
      "Rack KL: 4.335, Mug KL for Mug #9993: 0.708\n",
      "/home/jwang/code/equivariant_pose_graph/data/train_data_duprack_bothmugrack/renders/4_teleport_obj_points.npz\n"
     ]
    },
    {
     "name": "stderr",
     "output_type": "stream",
     "text": [
      "Global seed set to 0\n"
     ]
    },
    {
     "name": "stdout",
     "output_type": "stream",
     "text": [
      "Rack KL: 5.010, Mug KL for Mug #4: 1.104\n",
      "/home/jwang/code/equivariant_pose_graph/data/train_data_duprack_bothmugrack/renders/9994_teleport_obj_points.npz\n"
     ]
    },
    {
     "name": "stderr",
     "output_type": "stream",
     "text": [
      "Global seed set to 0\n"
     ]
    },
    {
     "name": "stdout",
     "output_type": "stream",
     "text": [
      "Rack KL: 4.012, Mug KL for Mug #9994: 0.694\n",
      "/home/jwang/code/equivariant_pose_graph/data/train_data_duprack_bothmugrack/renders/6_teleport_obj_points.npz\n"
     ]
    },
    {
     "name": "stderr",
     "output_type": "stream",
     "text": [
      "Global seed set to 0\n"
     ]
    },
    {
     "name": "stdout",
     "output_type": "stream",
     "text": [
      "Rack KL: 4.316, Mug KL for Mug #6: 0.764\n",
      "/home/jwang/code/equivariant_pose_graph/data/train_data_duprack_bothmugrack/renders/9996_teleport_obj_points.npz\n"
     ]
    },
    {
     "name": "stderr",
     "output_type": "stream",
     "text": [
      "Global seed set to 0\n"
     ]
    },
    {
     "name": "stdout",
     "output_type": "stream",
     "text": [
      "Rack KL: 4.408, Mug KL for Mug #9996: 0.751\n",
      "/home/jwang/code/equivariant_pose_graph/data/train_data_duprack_bothmugrack/renders/8_teleport_obj_points.npz\n"
     ]
    },
    {
     "name": "stderr",
     "output_type": "stream",
     "text": [
      "Global seed set to 0\n"
     ]
    },
    {
     "name": "stdout",
     "output_type": "stream",
     "text": [
      "Rack KL: 5.035, Mug KL for Mug #8: 1.438\n",
      "/home/jwang/code/equivariant_pose_graph/data/train_data_duprack_bothmugrack/renders/9998_teleport_obj_points.npz\n"
     ]
    },
    {
     "name": "stderr",
     "output_type": "stream",
     "text": [
      "Global seed set to 0\n"
     ]
    },
    {
     "name": "stdout",
     "output_type": "stream",
     "text": [
      "Rack KL: 4.024, Mug KL for Mug #9998: 1.191\n",
      "/home/jwang/code/equivariant_pose_graph/data/train_data_duprack_bothmugrack/renders/10_teleport_obj_points.npz\n"
     ]
    },
    {
     "name": "stderr",
     "output_type": "stream",
     "text": [
      "Global seed set to 0\n"
     ]
    },
    {
     "name": "stdout",
     "output_type": "stream",
     "text": [
      "Rack KL: 5.172, Mug KL for Mug #10: 1.430\n",
      "/home/jwang/code/equivariant_pose_graph/data/train_data_duprack_bothmugrack/renders/99910_teleport_obj_points.npz\n"
     ]
    },
    {
     "name": "stderr",
     "output_type": "stream",
     "text": [
      "Global seed set to 0\n"
     ]
    },
    {
     "name": "stdout",
     "output_type": "stream",
     "text": [
      "Rack KL: 3.982, Mug KL for Mug #99910: 0.852\n",
      "/home/jwang/code/equivariant_pose_graph/data/train_data_duprack_bothmugrack/renders/11_teleport_obj_points.npz\n"
     ]
    },
    {
     "name": "stderr",
     "output_type": "stream",
     "text": [
      "Global seed set to 0\n"
     ]
    },
    {
     "name": "stdout",
     "output_type": "stream",
     "text": [
      "Rack KL: 4.965, Mug KL for Mug #11: 1.303\n",
      "/home/jwang/code/equivariant_pose_graph/data/train_data_duprack_bothmugrack/renders/99911_teleport_obj_points.npz\n"
     ]
    },
    {
     "name": "stderr",
     "output_type": "stream",
     "text": [
      "Global seed set to 0\n"
     ]
    },
    {
     "name": "stdout",
     "output_type": "stream",
     "text": [
      "Rack KL: 4.132, Mug KL for Mug #99911: 0.688\n",
      "/home/jwang/code/equivariant_pose_graph/data/train_data_duprack_bothmugrack/renders/14_teleport_obj_points.npz\n"
     ]
    },
    {
     "name": "stderr",
     "output_type": "stream",
     "text": [
      "Global seed set to 0\n"
     ]
    },
    {
     "name": "stdout",
     "output_type": "stream",
     "text": [
      "Rack KL: 4.901, Mug KL for Mug #14: 1.725\n",
      "/home/jwang/code/equivariant_pose_graph/data/train_data_duprack_bothmugrack/renders/99914_teleport_obj_points.npz\n"
     ]
    },
    {
     "name": "stderr",
     "output_type": "stream",
     "text": [
      "Global seed set to 0\n"
     ]
    },
    {
     "name": "stdout",
     "output_type": "stream",
     "text": [
      "Rack KL: 4.330, Mug KL for Mug #99914: 0.922\n",
      "/home/jwang/code/equivariant_pose_graph/data/train_data_duprack_bothmugrack/renders/22_teleport_obj_points.npz\n"
     ]
    },
    {
     "name": "stderr",
     "output_type": "stream",
     "text": [
      "Global seed set to 0\n"
     ]
    },
    {
     "name": "stdout",
     "output_type": "stream",
     "text": [
      "Rack KL: 5.070, Mug KL for Mug #22: 1.262\n",
      "/home/jwang/code/equivariant_pose_graph/data/train_data_duprack_bothmugrack/renders/99922_teleport_obj_points.npz\n"
     ]
    },
    {
     "name": "stderr",
     "output_type": "stream",
     "text": [
      "Global seed set to 0\n"
     ]
    },
    {
     "name": "stdout",
     "output_type": "stream",
     "text": [
      "Rack KL: 4.042, Mug KL for Mug #99922: 0.677\n",
      "/home/jwang/code/equivariant_pose_graph/data/train_data_duprack_bothmugrack/renders/28_teleport_obj_points.npz\n"
     ]
    },
    {
     "name": "stderr",
     "output_type": "stream",
     "text": [
      "Global seed set to 0\n"
     ]
    },
    {
     "name": "stdout",
     "output_type": "stream",
     "text": [
      "Rack KL: 4.997, Mug KL for Mug #28: 0.982\n",
      "/home/jwang/code/equivariant_pose_graph/data/train_data_duprack_bothmugrack/renders/99928_teleport_obj_points.npz\n",
      "Rack KL: 4.429, Mug KL for Mug #99928: 0.743\n"
     ]
    }
   ],
   "source": [
    "from equivariant_pose_graph.models.transformer_flow import ResidualFlow_DiffEmbTransformer\n",
    "from equivariant_pose_graph.models.multimodal_transformer_flow import Multimodal_ResidualFlow_DiffEmbTransformer, Multimodal_ResidualFlow_DiffEmbTransformer_WithPZCondX\n",
    "from equivariant_pose_graph.training.flow_equivariance_training_module_nocentering_eval_init import EquivarianceTestingModule\n",
    "from equivariant_pose_graph.training.flow_equivariance_training_module_nocentering_multimodal import EquivarianceTrainingModule, EquivarianceTrainingModule_WithPZCondX\n",
    "\n",
    "models = [\n",
    "#     {\n",
    "#         \"name\": \"1 DGCNN + 1 mug overfit + inverse kl\",\n",
    "#         \"fn\": \"/home/jwang/code/equivariant_pose_graph/logs/residual_flow_occlusion/2023-01-12_152242/residual_flow_occlusion/3pgp6833/checkpoints/epoch_3_global_step_1000.ckpt\",\n",
    "#         \"mugs\": [0, 9990],\n",
    "#         \"encoder_type\": \"1_dgcnn\"\n",
    "#     },\n",
    "\n",
    "#     {\n",
    "#         \"name\": \"1 DGCNN + 2 mug overfit + inverse kl\",\n",
    "#         \"fn\":\"/home/jwang/code/equivariant_pose_graph/logs/residual_flow_occlusion/2023-01-12_155828/residual_flow_occlusion/2nswo2uu/checkpoints/epoch_35_global_step_9000.ckpt\",\n",
    "#         \"mugs\": [0, 9990, 2, 9992],\n",
    "#         \"encoder_type\": \"1_dgcnn\"\n",
    "#     },\n",
    "    \n",
    "#     {\n",
    "#         \"name\": \"1 DGCNN + 3 mug overfit + inverse kl\",\n",
    "#         \"fn\":\"/home/jwang/code/equivariant_pose_graph/logs/residual_flow_occlusion/2023-01-12_155847/residual_flow_occlusion/1rbhvbfr/checkpoints/epoch_11_global_step_3000.ckpt\",\n",
    "#         \"mugs\": [0, 9990, 2, 9992, 3, 9993],\n",
    "#         \"encoder_type\": \"1_dgcnn\"\n",
    "#     },\n",
    "    \n",
    "#     {\n",
    "#         \"name\": \"1 DGCNN + all mugs + inverse kl\",\n",
    "#         \"fn\": \"/home/jwang/code/equivariant_pose_graph/logs/residual_flow_occlusion/2023-01-12_130619/residual_flow_occlusion/1mmwz1ae/checkpoints/epoch_31_global_step_8000.ckpt\",\n",
    "#         \"mugs\": [0, 9990, 1, 9991, 2, 9992, 3, 9993, 4, 9994, 6, 9996, 8, 9998, 10, 99910, 11, 99911, 14, 99914, 22, 99922, 28, 99928],\n",
    "#         \"encoder_type\": \"1_dgcnn\"\n",
    "#     },\n",
    "    \n",
    "#     {\n",
    "#         \"name\": \"2 DGCNNs + 1 mug overfit + inverse kl\",\n",
    "#         \"fn\": \"/home/jwang/code/equivariant_pose_graph/logs/residual_flow_occlusion/2023-01-17_145122/residual_flow_occlusion/23n57sp0/checkpoints/epoch_31_global_step_8000.ckpt\",\n",
    "#         \"mugs\": [0, 9990],\n",
    "#         \"encoder_type\": \"2_dgcnn\"\n",
    "#     },\n",
    "\n",
    "#     {\n",
    "#         \"name\": \"2 DGCNNs + 2 mug overfit + inverse kl\",\n",
    "#         \"fn\":\"/home/jwang/code/equivariant_pose_graph/logs/residual_flow_occlusion/2023-01-13_140201/residual_flow_occlusion/2ofq050u/checkpoints/epoch_31_global_step_8000.ckpt\",\n",
    "#         \"mugs\": [0, 9990, 2, 9992],\n",
    "#         \"encoder_type\": \"2_dgcnn\"\n",
    "#     },\n",
    "    \n",
    "#     {\n",
    "#         \"name\": \"2 DGCNNs + 3 mug overfit + inverse kl\",\n",
    "#         \"fn\":\"/home/jwang/code/equivariant_pose_graph/logs/residual_flow_occlusion/2023-01-17_154329/residual_flow_occlusion/3cejcxfp/checkpoints/epoch_35_global_step_9000.ckpt\",\n",
    "#         \"mugs\": [0, 9990, 2, 9992, 3, 9993],\n",
    "#         \"encoder_type\": \"2_dgcnn\"\n",
    "#     },\n",
    "    \n",
    "#     {\n",
    "#         \"name\": \"2 DGCNNS + all mugs + inverse kl\",\n",
    "#         \"fn\": \"/home/jwang/code/equivariant_pose_graph/logs/residual_flow_occlusion/2023-01-19_082202/residual_flow_occlusion/19jqif0v/checkpoints/epoch_11_global_step_3000.ckpt\",\n",
    "#         \"mugs\": [0, 9990, 1, 9991, 2, 9992, 3, 9993, 4, 9994, 6, 9996, 8, 9998, 10, 99910, 11, 99911, 14, 99914, 22, 99922, 28, 99928],\n",
    "#         \"encoder_type\": \"2_dgcnn\"\n",
    "#     },\n",
    "    \n",
    "    {\n",
    "        'name': \"2 DGCNNS + all mugs + inverse kl + more certain p(z|Y)\",\n",
    "        \"fn\": \"/home/jwang/code/equivariant_pose_graph/logs/residual_flow_occlusion/2023-01-20_002146/residual_flow_occlusion/2ajhzffe/checkpoints/epoch_19_global_step_5000.ckpt\",\n",
    "        \"mugs\": [0, 9990, 1, 9991, 2, 9992, 3, 9993, 4, 9994, 6, 9996, 8, 9998, 10, 99910, 11, 99911, 14, 99914, 22, 99922, 28, 99928],\n",
    "        \"encoder_type\": \"2_dgcnn\"\n",
    "    }\n",
    "    \n",
    "]\n",
    "\n",
    "for model_data in models:\n",
    "    print(\"\\n\\n\\n\\n\", model_data[\"name\"])\n",
    "    inner_network = ResidualFlow_DiffEmbTransformer(\n",
    "                        emb_nn='dgcnn', return_flow_component=True, center_feature=True,\n",
    "                        inital_sampling_ratio=1, input_dims=4)\n",
    "    place_nocond_network = Multimodal_ResidualFlow_DiffEmbTransformer(\n",
    "                        inner_network, gumbel_temp=0.5, center_feature=True)\n",
    "    place_network = Multimodal_ResidualFlow_DiffEmbTransformer_WithPZCondX(\n",
    "                        place_nocond_network, encoder_type=model_data['encoder_type'])\n",
    "    place_nocond_model = EquivarianceTrainingModule(\n",
    "        place_nocond_network,\n",
    "        lr=1e-4,\n",
    "        image_log_period=100,\n",
    "        weight_normalize='softmax', #'l1',\n",
    "        softmax_temperature=1\n",
    "    )\n",
    "    place_model = EquivarianceTrainingModule_WithPZCondX(\n",
    "        place_network,\n",
    "        place_nocond_model,\n",
    "    )\n",
    "\n",
    "\n",
    "    place_model.cuda()\n",
    "    place_model.load_state_dict(torch.load(model_data[\"fn\"])['state_dict']);\n",
    "    \n",
    "    #######\n",
    "    \n",
    "    for mug_id in model_data['mugs']:\n",
    "        from torch.utils.data import DataLoader\n",
    "\n",
    "        # dataset = PointCloudDataset('/home/bokorn/src/ndf_robot/data/renders', \n",
    "        # dataset = PointCloudDataset('/home/jwang/code/equivariant_pose_graph/data/bokorn_ndf_robot_data_duprack_bothmugrack/renders', \n",
    "        dataset = PointCloudDataset('/home/jwang/code/equivariant_pose_graph/data/train_data_duprack_bothmugrack/renders', \n",
    "        # dataset = PointCloudDataset('/home/jwang/code/equivariant_pose_graph/data/train_data_duprack_bothmugrack_overfit/renders', \n",
    "                                    cloud_type='teleport',\n",
    "        #                             cloud_type='init',\n",
    "                                    dataset_indices=[mug_id])\n",
    "        #                             dataset_indices=[3])\n",
    "        dataloader = DataLoader(dataset)\n",
    "        \n",
    "        from pytorch3d.transforms import Transform3d\n",
    "        \n",
    "        #######\n",
    "        \n",
    "        from pytorch_lightning.utilities.seed import seed_everything\n",
    "\n",
    "        seed_everything(0)\n",
    "\n",
    "        for data in dataloader:\n",
    "            points_action = data['points_action'].cuda()[:,:-2]\n",
    "            points_anchor = data['points_anchor'].cuda()\n",
    "            points_action_trans = data['points_action_trans'].cuda()[:,:-2]\n",
    "            points_anchor_trans = data['points_anchor_trans'].cuda()\n",
    "            break\n",
    "        \n",
    "        from equivariant_pose_graph.utils.se3 import random_se3\n",
    "        kls = []\n",
    "        for i in range(100):\n",
    "            T0 = random_se3(1, rot_var=180, trans_var=0.5).cuda()\n",
    "            T1 = random_se3(1, rot_var=180, trans_var=0.5).cuda()\n",
    "            points_action_trans = T0.transform_points(points_action)\n",
    "            points_anchor_trans = T1.transform_points(points_anchor)\n",
    "            \n",
    "\n",
    "            #####\n",
    "\n",
    "            vis_train = True\n",
    "\n",
    "            if vis_train:\n",
    "                place_model.train()\n",
    "                res = place_model.get_transform(points_action_trans, points_anchor_trans,  points_action, points_anchor)\n",
    "\n",
    "                pred_T_action = res['pred_T_action']\n",
    "                flow_action = res['flow_components']['flow_action'][:,:,:3]\n",
    "                pred_w_action = torch.sigmoid(res['flow_components']['flow_action'][:,:,3])\n",
    "                flow_anchor = res['flow_components']['flow_anchor'][:,:,:3]\n",
    "                pred_w_anchor = torch.sigmoid(res['flow_components']['flow_anchor'][:,:,3])\n",
    "                corr_flow_action = res['flow_components']['corr_flow_action']\n",
    "                corr_flow_anchor = res['flow_components']['corr_flow_anchor']\n",
    "                corr_points_action = res['flow_components']['corr_points_action']\n",
    "                corr_points_anchor = res['flow_components']['corr_points_anchor']\n",
    "                residual_flow_action = res['flow_components']['residual_flow_action']\n",
    "                residual_flow_anchor = res['flow_components']['residual_flow_anchor']\n",
    "                action_attn = res['flow_components']['action_attn']\n",
    "                anchor_attn = res['flow_components']['anchor_attn']\n",
    "                goal_emb_action = res['flow_components']['goal_emb'][:, :, :residual_flow_action.shape[1]]\n",
    "                goal_emb_anchor = res['flow_components']['goal_emb'][:, :, residual_flow_action.shape[1]:]\n",
    "                dense_trans_pt_action = res['flow_components']['dense_trans_pt_action']\n",
    "                dense_trans_pt_anchor = res['flow_components']['dense_trans_pt_anchor']\n",
    "                trans_pt_action = res['flow_components']['trans_pt_action']\n",
    "                trans_pt_anchor = res['flow_components']['trans_pt_anchor']\n",
    "                trans_sample_action = res['flow_components']['trans_sample_action']\n",
    "                trans_sample_anchor = res['flow_components']['trans_sample_anchor']\n",
    "                goal_emb_cond_x_action = res['flow_components']['goal_emb_cond_x'][:, :, :residual_flow_action.shape[1]]\n",
    "                goal_emb_cond_x_anchor = res['flow_components']['goal_emb_cond_x'][:, :, residual_flow_action.shape[1]:]\n",
    "            else:\n",
    "                place_model.eval()\n",
    "                res = place_model.training_module_no_cond_x.get_transform(points_action_trans, points_anchor_trans, points_action, points_anchor)\n",
    "                goal_emb_action = res['flow_components']['goal_emb'][:, :, :residual_flow_action.shape[1]]\n",
    "                goal_emb_anchor = res['flow_components']['goal_emb'][:, :, residual_flow_action.shape[1]:]\n",
    "\n",
    "                res = place_model.get_transform(points_action_trans, points_anchor_trans, points_action, points_anchor)\n",
    "                pred_T_action = res['pred_T_action']\n",
    "                flow_action = res['flow_components']['flow_action'][:,:,:3]\n",
    "                pred_w_action = torch.sigmoid(res['flow_components']['flow_action'][:,:,3])\n",
    "                flow_anchor = res['flow_components']['flow_anchor'][:,:,:3]\n",
    "                pred_w_anchor = torch.sigmoid(res['flow_components']['flow_anchor'][:,:,3])\n",
    "                corr_flow_action = res['flow_components']['corr_flow_action']\n",
    "                corr_flow_anchor = res['flow_components']['corr_flow_anchor']\n",
    "                corr_points_action = res['flow_components']['corr_points_action']\n",
    "                corr_points_anchor = res['flow_components']['corr_points_anchor']\n",
    "                residual_flow_action = res['flow_components']['residual_flow_action']\n",
    "                residual_flow_anchor = res['flow_components']['residual_flow_anchor']\n",
    "                action_attn = res['flow_components']['action_attn']\n",
    "                anchor_attn = res['flow_components']['anchor_attn']\n",
    "                dense_trans_pt_action = res['flow_components']['dense_trans_pt_action']\n",
    "                dense_trans_pt_anchor = res['flow_components']['dense_trans_pt_anchor']\n",
    "                trans_pt_action = res['flow_components']['trans_pt_action']\n",
    "                trans_pt_anchor = res['flow_components']['trans_pt_anchor']\n",
    "                trans_sample_action = res['flow_components']['trans_sample_action']\n",
    "                trans_sample_anchor = res['flow_components']['trans_sample_anchor']\n",
    "                goal_emb_cond_x_action = res['flow_components']['goal_emb_cond_x'][:, :, :residual_flow_action.shape[1]]\n",
    "                goal_emb_cond_x_anchor = res['flow_components']['goal_emb_cond_x'][:, :, residual_flow_action.shape[1]:]\n",
    "\n",
    "            ########\n",
    "\n",
    "            post_action_pts = toDisplay(pred_T_action.transform_points(points_action_trans))[0]\n",
    "            post_anchor_pts = toDisplay(pred_T_action.inverse().transform_points(points_anchor_trans))[0]\n",
    "\n",
    "            action_pts = toDisplay(points_action)[0]\n",
    "            anchor_pts = toDisplay(points_anchor)[0]\n",
    "            action_trans_pts = toDisplay(points_action_trans)[0]\n",
    "            anchor_trans_pts = toDisplay(points_anchor_trans)[0]\n",
    "            action_flow = toDisplay(flow_action)[0]\n",
    "            action_flow_corr = toDisplay(corr_flow_action)[0]\n",
    "            action_flow_res = toDisplay(residual_flow_action)[0]\n",
    "            anchor_flow = toDisplay(flow_anchor)[0]\n",
    "            # vis_scores = toDisplay(scores)[0]\n",
    "            vis_attn_act = toDisplay(action_attn)[0]\n",
    "            vis_attn_anc = toDisplay(anchor_attn)[0]\n",
    "            action_w = toDisplay(pred_w_action)[0]\n",
    "            anchor_w = toDisplay(pred_w_anchor)[0]\n",
    "\n",
    "            #######\n",
    "\n",
    "\n",
    "            only_mug = False\n",
    "            if only_mug:\n",
    "                def test(goal_emb_cond_x, goal_emb):\n",
    "                    B, K, D = goal_emb.shape\n",
    "                #     print(goal_emb_cond_x[:, :, :D//2].shape)\n",
    "                #     print(goal_emb[:, :, :D//2].shape)\n",
    "                    goal_emb_loss = F.kl_div(F.log_softmax(goal_emb_cond_x[:, :, :], dim=-1), F.log_softmax(goal_emb[:, :, :], dim=-1), log_target=True, reduction='batchmean')\n",
    "                #                 + F.kl_div(F.log_softmax(goal_emb_cond_x[:, :, D//2:], dim=-2), F.log_softmax(goal_emb[:, :, D//2:], dim=-2), log_target=True, reduction='batchmean')\n",
    "                #     return F.kl_div(F.log_softmax(goal_emb_cond_x.reshape(B, K, D, 1), dim=-2), F.log_softmax(goal_emb.reshape(B, K, D, 1), dim=-2), log_target=True, reduction='batchmean')\n",
    "                    return goal_emb_loss\n",
    "\n",
    "                kls.append(test(goal_emb_cond_x_action, goal_emb_action).item())\n",
    "            else:\n",
    "                def test(goal_emb_cond_x, goal_emb):\n",
    "                    B, K, D = goal_emb.shape\n",
    "                #     print(goal_emb_cond_x[:, :, :D//2].shape)\n",
    "                #     print(goal_emb[:, :, :D//2].shape)\n",
    "                    goal_emb_loss = F.kl_div(F.log_softmax(goal_emb_cond_x[:, :, :], dim=-1), F.log_softmax(goal_emb[:, :, :], dim=-1), log_target=True, reduction='batchmean') \\\n",
    "                #                 + F.kl_div(F.log_softmax(goal_emb_cond_x[:, :, D//2:], dim=-2), F.log_softmax(goal_emb[:, :, D//2:], dim=-2), log_target=True, reduction='batchmean')\n",
    "                #     return F.kl_div(F.log_softmax(goal_emb_cond_x.reshape(B, K, D, 1), dim=-2), F.log_softmax(goal_emb.reshape(B, K, D, 1), dim=-2), log_target=True, reduction='batchmean')\n",
    "                    return goal_emb_loss\n",
    "\n",
    "#                 if i == 0:\n",
    "#                     temp = points_anchor.detach()\n",
    "#                     temp, _ = temp.sort(dim=1)\n",
    "#                     print(temp)\n",
    "                kls.append((test(goal_emb_cond_x_anchor, goal_emb_anchor).item(), test(goal_emb_cond_x_action, goal_emb_action).item()))\n",
    "\n",
    "        if only_mug:\n",
    "            print(f\"Mug KL for Mug #{mug_id}: {sum(kls) / len(kls):.3f}\")\n",
    "        else:\n",
    "            print(f\"Rack KL: {sum([a[0] for a in kls]) / len(kls):.3f}, Mug KL for Mug #{mug_id}: {sum([a[1] for a in kls]) / len(kls):.3f}\")\n"
   ]
  },
  {
   "cell_type": "code",
   "execution_count": null,
   "id": "129264bd",
   "metadata": {},
   "outputs": [],
   "source": []
  },
  {
   "cell_type": "code",
   "execution_count": null,
   "id": "1f1dc5d5",
   "metadata": {},
   "outputs": [],
   "source": []
  },
  {
   "cell_type": "code",
   "execution_count": null,
   "id": "3c0772d6",
   "metadata": {},
   "outputs": [],
   "source": []
  },
  {
   "cell_type": "code",
   "execution_count": null,
   "id": "65371f68",
   "metadata": {},
   "outputs": [],
   "source": []
  },
  {
   "cell_type": "code",
   "execution_count": null,
   "id": "b2d9cb3e",
   "metadata": {},
   "outputs": [],
   "source": []
  },
  {
   "cell_type": "code",
   "execution_count": null,
   "id": "44d8fe4e",
   "metadata": {},
   "outputs": [],
   "source": []
  }
 ],
 "metadata": {
  "kernelspec": {
   "display_name": "Python 3",
   "language": "python",
   "name": "python3"
  },
  "language_info": {
   "codemirror_mode": {
    "name": "ipython",
    "version": 3
   },
   "file_extension": ".py",
   "mimetype": "text/x-python",
   "name": "python",
   "nbconvert_exporter": "python",
   "pygments_lexer": "ipython3",
   "version": "3.7.11"
  }
 },
 "nbformat": 4,
 "nbformat_minor": 5
}
